{
 "cells": [
  {
   "cell_type": "code",
   "execution_count": null,
   "metadata": {},
   "outputs": [],
   "source": [
    "import pandas as pd\n",
    "import numpy as np\n",
    "import holoviews as hv\n",
    "from holoviews import opts\n",
    "import hvplot.pandas\n",
    "import bokeh\n",
    "import matplotlib.pyplot as plt\n",
    "hv.extension('bokeh')\n",
    "import panel as pn\n",
    "pn.extension()\n",
    "from datetime import datetime, timezone\n",
    "import param"
   ]
  },
  {
   "cell_type": "code",
   "execution_count": null,
   "metadata": {
    "pycharm": {
     "name": "#%%\n"
    }
   },
   "outputs": [],
   "source": [
    "eddy_min_longitude = -16\n",
    "eddy_max_longitude = -13\n",
    "eddy_min_latitude = 48\n",
    "eddy_max_latitude = 50\n",
    "\n",
    "observations = pd.read_csv('../data/observations.csv')\n",
    "metadata = pd.read_csv('../data/metadata.csv')\n",
    "metadata.sample_time = metadata.sample_time.apply(datetime.fromisoformat)\n",
    "topic_probs = pd.read_csv('../data/topic_probs.csv', dtype=float)\n",
    "word_probs = pd.read_csv('../data/word_probs.csv')\n",
    "word_topic_matrix = pd.read_csv('../data/word_topic_matrix.csv')\n",
    "oceanphysics = pd.read_csv('../data/oceanphysics.csv')\n",
    "oceanphysics.columns = ['sample_time', 'salinity', 'temperature', 'fluorescence', 'conductivity', 'sigma_t', 'instrument_date']\n",
    "oceanphysics = oceanphysics.drop('instrument_date', axis=1)\n",
    "eddycenter = pd.read_csv('../data/eddycenter.csv')\n",
    "oceanphysics.sample_time = oceanphysics.sample_time.apply(\n",
    "    lambda x: datetime.strptime(x, '%d-%m-%Y %H:%M:%S').replace(tzinfo=timezone.utc)\n",
    ")\n",
    "eddycenter.sample_time = eddycenter.sample_time.apply(\n",
    "    lambda x: datetime.strptime(x, '%d-%b-%Y %H:%M:%S').replace(tzinfo=timezone.utc)\n",
    ")\n",
    "metadata = metadata.set_index('sample_time')\n",
    "oceanphysics = oceanphysics.set_index('sample_time').reindex(metadata.index, method='nearest')\n",
    "topic_probs['sample_time'] = metadata.index\n",
    "word_probs['sample_time'] = metadata.index\n",
    "observations['sample_time'] = metadata.index\n",
    "topic_probs = topic_probs.set_index('sample_time')\n",
    "word_probs = word_probs.set_index('sample_time')\n",
    "observations = observations.set_index('sample_time')\n",
    "metadata_oceanphysics = pd.concat([metadata, oceanphysics], axis=1)\n",
    "observations_norm = observations.div(observations.sum(axis=1), axis=-0)\n",
    "topic_probs_idxmax = pd.DataFrame({\n",
    "    'latitude': metadata.latitude,\n",
    "    'longitude': metadata.longitude,\n",
    "    'ml_topic': topic_probs.idxmax(axis=1)\n",
    "})\n",
    "eddycenter = eddycenter.set_index('sample_time').reindex(metadata.index, method='nearest')\n"
   ]
  },
  {
   "cell_type": "code",
   "execution_count": null,
   "metadata": {
    "pycharm": {
     "name": "#%%\n"
    }
   },
   "outputs": [],
   "source": [
    "N = len(observations)\n",
    "\n",
    "eddy_idx = metadata.longitude > eddy_min_longitude\n",
    "eddy_idx &= metadata.longitude < eddy_max_longitude\n",
    "eddy_idx &= metadata.latitude > eddy_min_latitude\n",
    "eddy_idx &= metadata.latitude < eddy_max_latitude\n",
    "\n",
    "timefmt = '%Y-%m-%d %H:%M:%S+%z'\n",
    "epoch1_start = datetime.fromisoformat('2021-05-04 00:00:00+00:00')\n",
    "epoch2_start = datetime.fromisoformat('2021-05-11 00:00:00+00:00')\n",
    "epoch3_start = datetime.fromisoformat('2021-05-21 00:00:00+00:00')\n",
    "epoch1_idx = metadata.index < epoch2_start\n",
    "epoch2_idx = ~epoch1_idx & (metadata.index  < epoch3_start)\n",
    "epoch3_idx = ~epoch1_idx & ~epoch2_idx\n",
    "\n",
    "observations_epoch = pd.DataFrame(observations)\n",
    "observations_epoch[\"epoch\"] = (\n",
    "    1 * (observations_epoch.index < epoch2_start) +\n",
    "    2 * ((epoch2_start < observations_epoch.index) & (observations_epoch.index < epoch3_start)) +\n",
    "    3 * (epoch3_start < observations_epoch.index)\n",
    ")"
   ]
  },
  {
   "cell_type": "code",
   "execution_count": null,
   "metadata": {
    "pycharm": {
     "name": "#%%\n"
    }
   },
   "outputs": [],
   "source": [
    "hv.extension('matplotlib')\n",
    "def right_axis_temp_hook(plot, element):\n",
    "    fig = plot.state\n",
    "    axis1 = plot.handles[\"axis\"]\n",
    "    axis2 = axis1.twinx()\n",
    "    axis2.plot(\n",
    "        oceanphysics.index,\n",
    "        oceanphysics.temperature,\n",
    "        color='black',\n",
    "    )\n",
    "\n",
    "def right_axis_salt_hook(plot, element):\n",
    "    fig = plot.state\n",
    "    axis1 = plot.handles[\"axis\"]\n",
    "    axis2 = axis1.twinx()\n",
    "    axis2.plot(\n",
    "        oceanphysics.index,\n",
    "        oceanphysics.salinity,\n",
    "        color='black',\n",
    "    )\n",
    "\n",
    "\n",
    "def epoch_hook(plot, element):\n",
    "    fig = plot.state\n",
    "    plt.axvline(epoch2_start, figure=fig, ls='--', c='black')\n",
    "\n",
    "word_points = {i: list(zip(observations_norm.index, observations_norm[x])) for i, x in enumerate(observations_norm.columns)}\n",
    "word_prob_overlay = hv.Overlay(\n",
    "    [\n",
    "        hv.Area(word_points[i]) .opts(\n",
    "            linewidth=0,\n",
    "            color=hv.Cycle(\"tab20\"),\n",
    "            # aspect=2,\n",
    "            # fig_inches=15,\n",
    "            # fig_bounds=(0, 0, 0.8, 0.8),\n",
    "            # fig_size=400,\n",
    "            show_legend=True,\n",
    "            hooks=[epoch_hook]\n",
    "        ) for i in range(len(observations_norm.columns))\n",
    "    ]\n",
    ").opts(hooks=[epoch_hook])\n",
    "topic_points = {i: list(zip(topic_probs.index, topic_probs[x])) for i, x in enumerate(topic_probs.columns)}\n",
    "topic_prob_overlay = hv.Overlay(\n",
    "    [\n",
    "        hv.Area(topic_points[i]) .opts(\n",
    "            linewidth=0,\n",
    "            color=hv.Cycle(\"tab20\"),\n",
    "            # aspect=2,\n",
    "            # fig_inches=15,\n",
    "            # fig_bounds=(0, 0, 0.8, 0.8),\n",
    "            # fig_size=400,\n",
    "            show_legend=True,\n",
    "            hooks=[epoch_hook]\n",
    "        ) for i in range(len(topic_probs.columns))\n",
    "    ]\n",
    ").opts(hooks=[epoch_hook])"
   ]
  },
  {
   "cell_type": "code",
   "execution_count": null,
   "metadata": {
    "pycharm": {
     "name": "#%%\n"
    }
   },
   "outputs": [],
   "source": [
    "hv.extension('matplotlib')\n",
    "\n",
    "hv.Area.stack(word_prob_overlay).opts(\n",
    "    # fig_size=400,\n",
    "    # data_aspect=4,\n",
    "    xlabel=\"sample_time\",\n",
    "    ylabel=\"taxon_proportion\",\n",
    "    legend_position=\"bottom\",\n",
    "    show_legend=True,\n",
    "    title=\"(1) Observations vs time\",\n",
    "    fig_inches=10,\n",
    "    hooks=[epoch_hook]\n",
    ")"
   ]
  },
  {
   "cell_type": "code",
   "execution_count": null,
   "metadata": {
    "pycharm": {
     "name": "#%%\n"
    }
   },
   "outputs": [],
   "source": [
    "hv.extension('matplotlib')\n",
    "\n",
    "hv.Area.stack(topic_prob_overlay).opts(\n",
    "    # fig_size=400,\n",
    "    # data_aspect=4,\n",
    "    xlabel=\"sample_time\",\n",
    "    ylabel=\"topic_proportion\",\n",
    "    legend_position=\"bottom\",\n",
    "    show_legend=True,\n",
    "    title=\"(2) Topics vs time\",\n",
    "    fig_inches=10,\n",
    "    hooks=[epoch_hook],\n",
    ")"
   ]
  },
  {
   "cell_type": "code",
   "execution_count": null,
   "metadata": {
    "pycharm": {
     "name": "#%%\n"
    }
   },
   "outputs": [],
   "source": [
    "hv.extension('matplotlib')\n",
    "\n",
    "hv.Area.stack(word_prob_overlay).opts(\n",
    "    # fig_size=400,\n",
    "    # data_aspect=4,\n",
    "    xlabel=\"sample_time\",\n",
    "    ylabel=\"taxon_proportion\",\n",
    "    legend_position=\"bottom\",\n",
    "    show_legend=True,\n",
    "    title=\"(3) Observations vs time w/ temperature\",\n",
    "    fig_inches=10,\n",
    "    hooks=[right_axis_temp_hook, epoch_hook],\n",
    ")"
   ]
  },
  {
   "cell_type": "code",
   "execution_count": null,
   "metadata": {
    "pycharm": {
     "name": "#%%\n"
    }
   },
   "outputs": [],
   "source": [
    "hv.extension('matplotlib')\n",
    "\n",
    "hv.Area.stack(topic_prob_overlay).opts(\n",
    "    # fig_size=400,\n",
    "    # data_aspect=4,\n",
    "    xlabel=\"sample_time\",\n",
    "    ylabel=\"topic_proportion\",\n",
    "    legend_position=\"bottom\",\n",
    "    show_legend=True,\n",
    "    title=\"(4) Topics vs time w/ temperature\",\n",
    "    fig_inches=10,\n",
    "    hooks=[right_axis_temp_hook, epoch_hook],\n",
    ")"
   ]
  },
  {
   "cell_type": "code",
   "execution_count": null,
   "metadata": {
    "pycharm": {
     "name": "#%%\n"
    }
   },
   "outputs": [],
   "source": [
    "hv.extension('matplotlib')\n",
    "\n",
    "hv.Area.stack(word_prob_overlay).opts(\n",
    "    # fig_size=400,\n",
    "    # data_aspect=4,\n",
    "    xlabel=\"sample_time\",\n",
    "    ylabel=\"taxon_proportion\",\n",
    "    legend_position=\"bottom\",\n",
    "    show_legend=True,\n",
    "    title=\"(5) Observations vs time w/ salinity\",\n",
    "    fig_inches=10,\n",
    "    hooks=[right_axis_salt_hook, epoch_hook],\n",
    ")"
   ]
  },
  {
   "cell_type": "code",
   "execution_count": null,
   "metadata": {
    "pycharm": {
     "name": "#%%\n"
    }
   },
   "outputs": [],
   "source": [
    "hv.extension('matplotlib')\n",
    "\n",
    "hv.Area.stack(topic_prob_overlay).opts(\n",
    "    # fig_size=400,\n",
    "    # data_aspect=4,\n",
    "    xlabel=\"sample_time\",\n",
    "    ylabel=\"topic_proportion\",\n",
    "    legend_position=\"bottom\",\n",
    "    show_legend=True,\n",
    "    title=\"(6) Topics vs time w/ salinity\",\n",
    "    fig_inches=10,\n",
    "    hooks=[right_axis_salt_hook, epoch_hook],\n",
    ")"
   ]
  },
  {
   "cell_type": "code",
   "execution_count": null,
   "metadata": {
    "pycharm": {
     "name": "#%%\n"
    }
   },
   "outputs": [],
   "source": [
    "hv.extension('bokeh')\n",
    "ranks = observations_epoch[eddy_idx].groupby(\"epoch\").aggregate('sum').rank(axis=1, method='min', ascending=False).reset_index().melt(\n",
    "    id_vars=['epoch'],\n",
    "    var_name='taxon',\n",
    "    value_name=\"rank\",\n",
    ")\n",
    "epoch1_ranks = ranks[ranks.epoch == 1].set_index(ranks[ranks.epoch == 1]['rank'].astype(int)).taxon.sort_index().to_list()\n",
    "epoch1_rank_dim = hv.Dimension('taxon', values=epoch1_ranks)\n",
    "epoch1_bars = hv.Bars(ranks[ranks.epoch == 1], epoch1_rank_dim, 'rank').opts(\n",
    "    width=2000,\n",
    "    height=500,\n",
    "    xrotation=90,\n",
    "    show_grid=True,\n",
    "    show_legend=True,\n",
    ")\n",
    "\n",
    "epoch2_bars = hv.Bars(ranks[ranks.epoch == 2], epoch1_rank_dim, 'rank').opts(\n",
    "    width=2000,\n",
    "    height=500,\n",
    "    xrotation=90,\n",
    "    show_grid=True,\n",
    "    show_legend=True,\n",
    "\n",
    ")\n",
    "(epoch1_bars * epoch2_bars).opts(\n",
    "    show_legend=True,\n",
    "    show_grid=True,\n",
    "    multiple_legends=True,\n",
    "    title=\"(7) Rank abundance, epoch 1 and 2\")"
   ]
  },
  {
   "cell_type": "code",
   "execution_count": null,
   "metadata": {
    "pycharm": {
     "name": "#%%\n"
    }
   },
   "outputs": [],
   "source": [
    "hv.extension('bokeh')\n",
    "topic_probs_idxmax[epoch1_idx & eddy_idx].hvplot(\n",
    "    kind='scatter',\n",
    "    x='longitude',\n",
    "    y='latitude',\n",
    "    by='ml_topic',\n",
    "    title='(8) Epoch 1 max likelihood topic')"
   ]
  },
  {
   "cell_type": "code",
   "execution_count": null,
   "metadata": {
    "pycharm": {
     "name": "#%%\n"
    }
   },
   "outputs": [],
   "source": [
    "hv.extension('bokeh')\n",
    "topic_probs_idxmax[epoch2_idx & eddy_idx].hvplot(\n",
    "    kind='scatter',\n",
    "    x='longitude',\n",
    "    y='latitude',\n",
    "    by='ml_topic',\n",
    "    title='(9) Epoch 2 max likelihood topic')\n",
    "\n"
   ]
  },
  {
   "cell_type": "code",
   "execution_count": null,
   "metadata": {
    "pycharm": {
     "name": "#%%\n"
    }
   },
   "outputs": [],
   "source": [
    "hv.extension('bokeh')\n",
    "word_topic_matrix.hvplot(\n",
    "    kind='heatmap',\n",
    "    title='(10) Word-topic matrix',\n",
    "    rot=90,\n",
    "    cmap='BuGn',\n",
    "    width=2000,\n",
    "    height=600,\n",
    "    logz=True,\n",
    "    clim=(1e-6, 1),\n",
    "    yticks=list(range(8)),\n",
    ")"
   ]
  },
  {
   "cell_type": "code",
   "execution_count": null,
   "metadata": {
    "pycharm": {
     "name": "#%%\n"
    }
   },
   "outputs": [],
   "source": [
    "hv.extension('bokeh')\n",
    "topics_eddy = pd.DataFrame(topic_probs)\n",
    "topics_eddy['r_ec'] = eddycenter['r_ec']\n",
    "topics_eddy['time_of_day'] = topics_eddy.index.to_series().apply(lambda x: x.hour)\n",
    "topics_eddy['epoch1'] = epoch1_idx * 1\n",
    "topics_eddy['epoch2'] = epoch2_idx * 1\n",
    "topics_eddy = topics_eddy.reset_index().melt(id_vars=['sample_time', 'r_ec', 'time_of_day', 'epoch1', 'epoch2'], var_name='topic', value_name='fraction')\n",
    "all_topics = [str(x) for x in list(range(8))]\n",
    "class TopicEddyPlot(param.Parameterized):\n",
    "    topics = param.ListSelector(default=all_topics, objects=all_topics,)\n",
    "    time_of_day = param.ListSelector(default=list(range(24)), objects=list(range(24)))\n",
    "    mute = param.Boolean(default=True)\n",
    "    epochs = param.ListSelector(default=[1, 2], objects=[1, 2])\n",
    "\n",
    "    @param.depends('topics', 'time_of_day', 'mute', 'epochs')\n",
    "    def plot(self):\n",
    "        sel = topics_eddy.topic.isin(self.topics)\n",
    "        sel &= topics_eddy.time_of_day.isin(self.time_of_day)\n",
    "        epoch_idx = (topics_eddy.epoch1 * 0)\n",
    "        if 1 in self.epochs:\n",
    "            epoch_idx |= topics_eddy.epoch1\n",
    "        if 2 in self.epochs:\n",
    "            epoch_idx |= topics_eddy.epoch2\n",
    "        sel &= (epoch_idx)\n",
    "        topics_eddy['alpha'] = 0.25 + 0.75 * (\n",
    "            sel\n",
    "        )\n",
    "        data = topics_eddy if self.mute else topics_eddy[sel]\n",
    "        ret = hv.Scatter(data, kdims=['r_ec'], vdims=['fraction', 'topic', 'sample_time', 'time_of_day', 'alpha']).opts(\n",
    "            color='topic',\n",
    "            width=750,\n",
    "            height=600,\n",
    "            cmap='tab10',\n",
    "            logx=True,\n",
    "            logy=True,\n",
    "            xlim=(1.0e-1, 1.0e3),\n",
    "            ylim=(1.0e-4, 1.0e0)\n",
    "        )\n",
    "        if self.mute:\n",
    "            ret = ret.opts(alpha='alpha')\n",
    "        return ret\n",
    "tep = TopicEddyPlot()\n",
    "controls = pn.Row(\n",
    "    pn.Column(\n",
    "        pn.widgets.CheckBoxGroup.from_param(tep.param['epochs'], title='epochs', width=75, height=75),\n",
    "        pn.widgets.CheckBoxGroup.from_param(tep.param['topics'], title='Topic', width=75, height=250), \n",
    "        pn.widgets.Toggle.from_param(tep.param['mute'], title='mute', width=75, height=25)\n",
    "    ),\n",
    "    pn.widgets.MultiSelect.from_param(tep.param['time_of_day'], title='Hour', width=75, height=425),\n",
    "\n",
    ")\n",
    "pn.Row(controls, tep.plot)"
   ]
  },
  {
   "cell_type": "code",
   "execution_count": null,
   "metadata": {},
   "outputs": [],
   "source": [
    "hv.Bars(\n",
    "    word_topic_matrix.rank(axis=1).astype(int).reset_index().melt(var_name='taxon', value_name='rank', id_vars=['index']),\n",
    "    kdims=['taxon',], vdims=['rank', 'index']\n",
    ").opts(\n",
    "    xrotation=90,\n",
    "    width=1000,\n",
    "    height=800,\n",
    "    stacked=False,\n",
    "    color='index'\n",
    ")"
   ]
  },
  {
   "cell_type": "code",
   "execution_count": null,
   "metadata": {},
   "outputs": [],
   "source": [
    "hv.help(hv.Bars)"
   ]
  },
  {
   "cell_type": "code",
   "execution_count": null,
   "metadata": {},
   "outputs": [],
   "source": []
  }
 ],
 "metadata": {
  "kernelspec": {
   "display_name": "Python 3 (ipykernel)",
   "language": "python",
   "name": "python3"
  },
  "language_info": {
   "codemirror_mode": {
    "name": "ipython",
    "version": 3
   },
   "file_extension": ".py",
   "mimetype": "text/x-python",
   "name": "python",
   "nbconvert_exporter": "python",
   "pygments_lexer": "ipython3",
   "version": "3.9.5"
  }
 },
 "nbformat": 4,
 "nbformat_minor": 1
}
