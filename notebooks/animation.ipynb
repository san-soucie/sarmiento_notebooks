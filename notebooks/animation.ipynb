{
 "cells": [
  {
   "cell_type": "code",
   "execution_count": null,
   "metadata": {},
   "outputs": [],
   "source": [
    "import pandas as pd\n",
    "import numpy as np\n",
    "import holoviews as hv\n",
    "from holoviews import opts\n",
    "import hvplot.pandas\n",
    "import bokeh\n",
    "import matplotlib.pyplot as plt\n",
    "import matplotlib.animation as ani\n",
    "import panel as pn\n",
    "pn.extension()\n",
    "hv.extension('bokeh')\n",
    "from datetime import datetime, timezone\n",
    "import geopy\n",
    "import geopy.distance\n",
    "import param"
   ]
  },
  {
   "cell_type": "code",
   "execution_count": null,
   "metadata": {
    "pycharm": {
     "name": "#%%\n"
    }
   },
   "outputs": [],
   "source": [
    "eddy_min_longitude = -16\n",
    "eddy_max_longitude = -13\n",
    "eddy_min_latitude = 48\n",
    "eddy_max_latitude = 50\n",
    "\n",
    "observations = pd.read_csv('../data/observations.csv')\n",
    "metadata = pd.read_csv('../data/metadata.csv')\n",
    "metadata.sample_time = metadata.sample_time.apply(datetime.fromisoformat)\n",
    "topic_probs = pd.read_csv('../data/topic_probs.csv', dtype=float)\n",
    "word_probs = pd.read_csv('../data/word_probs.csv')\n",
    "word_topic_matrix = pd.read_csv('../data/word_topic_matrix.csv')\n",
    "oceanphysics = pd.read_csv('../data/oceanphysics.csv')\n",
    "eddycenter = pd.read_csv('../data/eddycenter.csv')\n",
    "oceanphysics.columns = ['sample_time', 'salinity', 'temperature', 'fluorescence', 'conductivity', 'sigma_t', 'instrument_date']\n",
    "oceanphysics = oceanphysics.drop('instrument_date', axis=1)\n",
    "oceanphysics.sample_time = oceanphysics.sample_time.apply(\n",
    "    lambda x: datetime.strptime(x, '%d-%m-%Y %H:%M:%S').replace(tzinfo=timezone.utc)\n",
    ")\n",
    "eddycenter.sample_time = eddycenter.sample_time.apply(\n",
    "    lambda x: datetime.strptime(x, '%d-%b-%Y %H:%M:%S').replace(tzinfo=timezone.utc)\n",
    ")\n",
    "metadata = metadata.set_index('sample_time')\n",
    "oceanphysics = oceanphysics.set_index('sample_time').reindex(metadata.index, method='nearest')\n",
    "eddycenter = eddycenter.set_index('sample_time').reindex(metadata.index, method='nearest')\n",
    "topic_probs['sample_time'] = metadata.index\n",
    "word_probs['sample_time'] = metadata.index\n",
    "observations['sample_time'] = metadata.index\n",
    "topic_probs = topic_probs.set_index('sample_time')\n",
    "word_probs = word_probs.set_index('sample_time')\n",
    "observations = observations.set_index('sample_time')\n",
    "metadata_oceanphysics = pd.concat([metadata, oceanphysics], axis=1)\n",
    "observations_norm = observations.div(observations.sum(axis=1), axis=-0)\n",
    "topic_probs_idxmax = pd.DataFrame({\n",
    "    'latitude': metadata.latitude,\n",
    "    'longitude': metadata.longitude,\n",
    "    'ml_topic': topic_probs.idxmax(axis=1)\n",
    "})"
   ]
  },
  {
   "cell_type": "code",
   "execution_count": null,
   "metadata": {
    "pycharm": {
     "name": "#%%\n"
    }
   },
   "outputs": [],
   "source": [
    "N = len(observations)\n",
    "\n",
    "eddy_idx = metadata.longitude > eddy_min_longitude\n",
    "eddy_idx &= metadata.longitude < eddy_max_longitude\n",
    "eddy_idx &= metadata.latitude > eddy_min_latitude\n",
    "eddy_idx &= metadata.latitude < eddy_max_latitude\n",
    "\n",
    "timefmt = '%Y-%m-%d %H:%M:%S+%z'\n",
    "epoch1_start = datetime.fromisoformat('2021-05-04 00:00:00+00:00')\n",
    "epoch2_start = datetime.fromisoformat('2021-05-11 00:00:00+00:00')\n",
    "epoch3_start = datetime.fromisoformat('2021-05-21 00:00:00+00:00')\n",
    "epoch1_idx = metadata.index < epoch2_start\n",
    "epoch2_idx = ~epoch1_idx & (metadata.index  < epoch3_start)\n",
    "epoch3_idx = ~epoch1_idx & ~epoch2_idx\n",
    "\n",
    "observations_epoch = pd.DataFrame(observations)\n",
    "observations_epoch[\"epoch\"] = (\n",
    "    1 * (observations_epoch.index < epoch2_start) +\n",
    "    2 * ((epoch2_start < observations_epoch.index) & (observations_epoch.index < epoch3_start)) +\n",
    "    3 * (epoch3_start < observations_epoch.index)\n",
    ")"
   ]
  },
  {
   "cell_type": "code",
   "execution_count": null,
   "metadata": {
    "pycharm": {
     "name": "#%%\n"
    }
   },
   "outputs": [],
   "source": [
    "ship = [geopy.Point(*x) for x in zip(eddycenter.latitude, eddycenter.longitude)]\n",
    "r_eddy = [geopy.distance.geodesic(kilometers=x) for x in eddycenter.r_ec]\n",
    "b_eddy = [np.arctan2(y, x) for x, y in zip(eddycenter.x_ec, eddycenter.y_ec)]\n",
    "eddy = [r.destination(s, b) for r, s, b in zip(r_eddy, ship, b_eddy)]\n",
    "ship_eddy_df = pd.DataFrame(\n",
    "    {\n",
    "    \"ship_longitude\": eddycenter.longitude,\n",
    "    \"ship_latitude\": eddycenter.latitude,\n",
    "    \"eddy_longitude\": [x.longitude for x in eddy],\n",
    "    \"eddy_latitude\": [x.latitude for x in eddy]\n",
    "    },\n",
    "    index=eddycenter.index\n",
    ")"
   ]
  },
  {
   "cell_type": "code",
   "execution_count": null,
   "metadata": {
    "pycharm": {
     "name": "#%%\n"
    }
   },
   "outputs": [],
   "source": [
    "class ShipEddyPlot:\n",
    "    def __init__(\n",
    "            self,\n",
    "            df: pd.DataFrame,\n",
    "            sx: str = 'ship_longitude',\n",
    "            sy: str = 'ship_latitude',\n",
    "            ex: str = 'eddy_longitude',\n",
    "            ey: str = 'eddy_latitude',\n",
    "            x_bounds: tuple[float, float] = (-25.0, -10.0),\n",
    "            y_bounds: tuple[float, float] = (45.0, 55.0),\n",
    "    ):\n",
    "        self.df = df\n",
    "        self.sx = sx\n",
    "        self.sy = sy\n",
    "        self.ex = ex\n",
    "        self.ey = ey\n",
    "        self.x_bounds = x_bounds\n",
    "        self.y_bounds = y_bounds\n",
    "        self.figure = None\n",
    "        self.axis = None\n",
    "        self.scatter = None\n",
    "\n",
    "    def data(self, t):\n",
    "        return (\n",
    "            [self.df.loc[self.df.index[t], self.sx], self.df.loc[self.df.index[t], self.sy]],\n",
    "            [self.df.loc[self.df.index[t], self.ex], self.df.loc[self.df.index[t], self.ey]]\n",
    "        )\n",
    "\n",
    "    def init(self, figure, axis):\n",
    "        self.figure = figure\n",
    "        self.axis = axis\n",
    "        self.scatter = self.update(0)\n",
    "        return self.scatter\n",
    "\n",
    "    def update(self, t):\n",
    "        ship, eddy = self.data(t)\n",
    "        self.axis.clear()\n",
    "        self.axis.scatter(\n",
    "            *ship,\n",
    "            marker='o',\n",
    "            color='r',\n",
    "        )\n",
    "        self.scatter = self.axis.scatter(\n",
    "            *eddy,\n",
    "            marker='x',\n",
    "            color='b',\n",
    "        )\n",
    "        self.axis.legend(['ship', 'eddy'])\n",
    "        self.axis.set_xlim(self.x_bounds)\n",
    "        self.axis.set_ylim(self.y_bounds)\n",
    "        self.axis.grid(True)\n",
    "        self.axis.set_title(f'{self.df.index[t]}')\n",
    "        return self.scatter\n"
   ]
  },
  {
   "cell_type": "code",
   "execution_count": null,
   "metadata": {
    "pycharm": {
     "name": "#%%\n"
    }
   },
   "outputs": [],
   "source": [
    "%matplotlib notebook\n",
    "shipeddyplot = ShipEddyPlot(ship_eddy_df)\n",
    "fig, ax = plt.subplots()\n",
    "a = ani.FuncAnimation(fig, shipeddyplot.update, frames=N,\n",
    "                    init_func=lambda: shipeddyplot.init(fig, ax), blit=False)\n",
    "plt.show()\n"
   ]
  },
  {
   "cell_type": "code",
   "execution_count": null,
   "metadata": {
    "pycharm": {
     "name": "#%%\n"
    }
   },
   "outputs": [],
   "source": [
    "hv.extension('bokeh')\n",
    "class AnimatedPlot(param.Parameterized):\n",
    "    t = param.Integer(0, bounds=(0, N))\n",
    "    \n",
    "    def __init__(\n",
    "            self,\n",
    "            se_df: pd.DataFrame,\n",
    "            obs_df: pd.DataFrame,\n",
    "            topic_df: pd.DataFrame,\n",
    "            sx: str = 'ship_longitude',\n",
    "            sy: str = 'ship_latitude',\n",
    "            ex: str = 'eddy_longitude',\n",
    "            ey: str = 'eddy_latitude',\n",
    "            x_bounds: tuple[float, float] = (-17.0, -12.0),\n",
    "            y_bounds: tuple[float, float] = (47.0, 50.0),\n",
    "    ):\n",
    "        super().__init__()\n",
    "        self.se_df = se_df\n",
    "        self.obs_df = obs_df + 0.1\n",
    "        self.obs_df = self.obs_df.div(self.obs_df.sum(axis=1), axis=0)\n",
    "        self.topic_df = topic_df\n",
    "        self.sx = sx\n",
    "        self.sy = sy\n",
    "        self.ex = ex\n",
    "        self.ey = ey\n",
    "        self.x_bounds = x_bounds\n",
    "        self.y_bounds = y_bounds\n",
    "    \n",
    "\n",
    "    @param.depends('t')\n",
    "    def se_plot(self):\n",
    "        d = self.se_df.iloc[max(self.t-20, 0):self.t, :]\n",
    "        d['alpha'] = [0.5 + 0.5 * x / len(d)  for x in range(len(d))]\n",
    "        ship_plot = hv.Points(d, kdims=[self.sx, self.sy], vdims=['alpha'], label='Ship').opts(\n",
    "            xlim=self.x_bounds,\n",
    "            ylim=self.y_bounds,\n",
    "            show_grid=True,\n",
    "            alpha='alpha'\n",
    "        )\n",
    "        eddy_plot = hv.Points(d, kdims=[self.ex, self.ey], vdims=['alpha'], label='Eddy').opts(\n",
    "            xlim=self.x_bounds,\n",
    "            ylim=self.y_bounds,\n",
    "            show_grid=True,\n",
    "            alpha='alpha'\n",
    "        )\n",
    "        return (ship_plot * eddy_plot).opts(\n",
    "            title=f'{self.se_df.index[self.t]}',\n",
    "            legend_position='bottom_right',\n",
    "        )\n",
    "    \n",
    "    @param.depends('t')\n",
    "    def obs_plot(self):\n",
    "        hist = [(t, f) for t, f in zip(self.obs_df.columns, self.obs_df.iloc[self.t, :])]\n",
    "        return hv.Bars(hist, hv.Dimension('Taxon'), 'Fraction').opts(\n",
    "            xrotation=90,\n",
    "            width=800,\n",
    "            height=850,\n",
    "            ylim=(1e-2, 1),\n",
    "            logy=True,\n",
    "            axiswise=True,\n",
    "            invert_axes=True\n",
    "        )\n",
    "    \n",
    "    @param.depends('t')\n",
    "    def topic_plot(self):\n",
    "        hist = self.topic_df.iloc[self.t, :].tolist()\n",
    "        return hv.Bars(hist).opts(\n",
    "            xrotation=90,\n",
    "            width=500,\n",
    "            ylim=(1e-2, 1),\n",
    "            logy=True,\n",
    "            axiswise=True\n",
    "        )\n",
    "    \n",
    "ap = AnimatedPlot(se_df=ship_eddy_df, obs_df = observations, topic_df=topic_probs)\n",
    "player = pn.widgets.Player.from_param(ap.param.t)\n",
    "c = pn.Column(player, ap.se_plot, ap.topic_plot)\n",
    "# r1 = pn.Row(ap.se_plot, ap.topic_plot)\n",
    "# r2 = pn.Row(ap.obs_plot)\n",
    "# pn.Column(player, r1, r2)\n",
    "pn.Row(c, ap.obs_plot)"
   ]
  },
  {
   "cell_type": "code",
   "execution_count": null,
   "metadata": {},
   "outputs": [],
   "source": [
    "observations.iloc[0, :]"
   ]
  },
  {
   "cell_type": "code",
   "execution_count": null,
   "metadata": {},
   "outputs": [],
   "source": [
    "hv.help(hv.Points)"
   ]
  },
  {
   "cell_type": "code",
   "execution_count": null,
   "metadata": {},
   "outputs": [],
   "source": []
  }
 ],
 "metadata": {
  "kernelspec": {
   "display_name": "Python 3 (ipykernel)",
   "language": "python",
   "name": "python3"
  },
  "language_info": {
   "codemirror_mode": {
    "name": "ipython",
    "version": 3
   },
   "file_extension": ".py",
   "mimetype": "text/x-python",
   "name": "python",
   "nbconvert_exporter": "python",
   "pygments_lexer": "ipython3",
   "version": "3.9.5"
  }
 },
 "nbformat": 4,
 "nbformat_minor": 1
}
